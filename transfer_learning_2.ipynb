{
 "cells": [
  {
   "cell_type": "code",
   "execution_count": 1,
   "metadata": {},
   "outputs": [
    {
     "name": "stderr",
     "output_type": "stream",
     "text": [
      "Using TensorFlow backend.\n"
     ]
    }
   ],
   "source": [
    "from keras.models import Sequential\n",
    "from keras.layers import Convolution2D\n",
    "from keras.layers import MaxPooling2D\n",
    "from keras.layers import Dense\n",
    "from keras.layers import Flatten\n",
    "import keras"
   ]
  },
  {
   "cell_type": "code",
   "execution_count": 2,
   "metadata": {},
   "outputs": [],
   "source": [
    "image_size = 96\n",
    "image_shape = (image_size,image_size,3)"
   ]
  },
  {
   "cell_type": "code",
   "execution_count": 3,
   "metadata": {},
   "outputs": [
    {
     "name": "stdout",
     "output_type": "stream",
     "text": [
      "WARNING:tensorflow:From C:\\Users\\USER\\Anaconda3\\lib\\site-packages\\tensorflow\\python\\framework\\op_def_library.py:263: colocate_with (from tensorflow.python.framework.ops) is deprecated and will be removed in a future version.\n",
      "Instructions for updating:\n",
      "Colocations handled automatically by placer.\n"
     ]
    }
   ],
   "source": [
    "base_model = keras.applications.VGG16(input_shape = image_shape,\n",
    "                                      include_top = False,\n",
    "                                      weights = 'imagenet')"
   ]
  },
  {
   "cell_type": "code",
   "execution_count": 4,
   "metadata": {},
   "outputs": [],
   "source": [
    "base_model.trainable = False"
   ]
  },
  {
   "cell_type": "code",
   "execution_count": 5,
   "metadata": {},
   "outputs": [],
   "source": [
    "maxpool_layers = keras.layers.GlobalMaxPool2D()"
   ]
  },
  {
   "cell_type": "code",
   "execution_count": 6,
   "metadata": {},
   "outputs": [],
   "source": [
    "prediction_layers = keras.layers.Dense(3,activation='softmax')"
   ]
  },
  {
   "cell_type": "code",
   "execution_count": 7,
   "metadata": {},
   "outputs": [],
   "source": [
    "classifier = keras.Sequential([base_model,maxpool_layers,prediction_layers])"
   ]
  },
  {
   "cell_type": "code",
   "execution_count": 16,
   "metadata": {},
   "outputs": [],
   "source": [
    "classifier.compile(optimizer=keras.optimizers.Adam(),loss='categorical_crossentropy',metrics=['accuracy'])"
   ]
  },
  {
   "cell_type": "code",
   "execution_count": 17,
   "metadata": {},
   "outputs": [],
   "source": [
    "from keras.preprocessing.image import ImageDataGenerator\n",
    "train_dataset = ImageDataGenerator(rescale = 1.0/255,\n",
    "                                   shear_range = 0.2,\n",
    "                                   zoom_range = 0.2,\n",
    "                                   horizontal_flip = True)"
   ]
  },
  {
   "cell_type": "code",
   "execution_count": 18,
   "metadata": {},
   "outputs": [],
   "source": [
    "test_datagen = ImageDataGenerator(rescale=1.0/255)"
   ]
  },
  {
   "cell_type": "code",
   "execution_count": 19,
   "metadata": {},
   "outputs": [
    {
     "name": "stdout",
     "output_type": "stream",
     "text": [
      "Found 1050 images belonging to 3 classes.\n"
     ]
    }
   ],
   "source": [
    "train_set = train_dataset.flow_from_directory('train',\n",
    "                                             target_size = (96,96),\n",
    "                                             batch_size = 6,\n",
    "                                             class_mode = 'categorical')"
   ]
  },
  {
   "cell_type": "code",
   "execution_count": 20,
   "metadata": {},
   "outputs": [
    {
     "name": "stdout",
     "output_type": "stream",
     "text": [
      "Found 106 images belonging to 3 classes.\n"
     ]
    }
   ],
   "source": [
    "test_set = test_datagen.flow_from_directory('test',target_size=(96,96),batch_size=6,class_mode='categorical')"
   ]
  },
  {
   "cell_type": "code",
   "execution_count": 21,
   "metadata": {},
   "outputs": [
    {
     "data": {
      "text/plain": [
       "{'airplane': 0, 'cars': 1, 'motorbike': 2}"
      ]
     },
     "execution_count": 21,
     "metadata": {},
     "output_type": "execute_result"
    }
   ],
   "source": [
    "label_map = train_set.class_indices\n",
    "label_map"
   ]
  },
  {
   "cell_type": "code",
   "execution_count": 22,
   "metadata": {},
   "outputs": [
    {
     "name": "stdout",
     "output_type": "stream",
     "text": [
      "Epoch 1/10\n",
      "100/100 [==============================] - 83s 834ms/step - loss: 0.8555 - acc: 0.6067 - val_loss: 0.7925 - val_acc: 0.6655\n",
      "Epoch 2/10\n",
      "100/100 [==============================] - 79s 791ms/step - loss: 0.5161 - acc: 0.8100 - val_loss: 0.6715 - val_acc: 0.7653\n",
      "Epoch 3/10\n",
      "100/100 [==============================] - 78s 776ms/step - loss: 0.4346 - acc: 0.8633 - val_loss: 0.6152 - val_acc: 0.7211\n",
      "Epoch 4/10\n",
      "100/100 [==============================] - 79s 789ms/step - loss: 0.3846 - acc: 0.8733 - val_loss: 0.6210 - val_acc: 0.7245\n",
      "Epoch 5/10\n",
      "100/100 [==============================] - 79s 786ms/step - loss: 0.4077 - acc: 0.8550 - val_loss: 0.5753 - val_acc: 0.7568\n",
      "Epoch 6/10\n",
      "100/100 [==============================] - 77s 770ms/step - loss: 0.3047 - acc: 0.9000 - val_loss: 0.5714 - val_acc: 0.7653\n",
      "Epoch 7/10\n",
      "100/100 [==============================] - 77s 774ms/step - loss: 0.3105 - acc: 0.8983 - val_loss: 0.5610 - val_acc: 0.7619\n",
      "Epoch 8/10\n",
      "100/100 [==============================] - 78s 783ms/step - loss: 0.2706 - acc: 0.9050 - val_loss: 0.5611 - val_acc: 0.7755\n",
      "Epoch 9/10\n",
      "100/100 [==============================] - 78s 782ms/step - loss: 0.3129 - acc: 0.8917 - val_loss: 0.5725 - val_acc: 0.7517\n",
      "Epoch 10/10\n",
      "100/100 [==============================] - 79s 790ms/step - loss: 0.2752 - acc: 0.9050 - val_loss: 0.5636 - val_acc: 0.7568\n"
     ]
    },
    {
     "data": {
      "text/plain": [
       "<keras.callbacks.History at 0x25d977af0f0>"
      ]
     },
     "execution_count": 22,
     "metadata": {},
     "output_type": "execute_result"
    }
   ],
   "source": [
    "classifier.fit_generator(train_set,steps_per_epoch=100,\n",
    "                        epochs = 10,validation_data = test_set,validation_steps = 50)"
   ]
  },
  {
   "cell_type": "code",
   "execution_count": 27,
   "metadata": {},
   "outputs": [
    {
     "name": "stdout",
     "output_type": "stream",
     "text": [
      "air.jpg Aeroplane,\n",
      "bike34.jpg Bike,\n",
      "car007.jpg Car,\n",
      "car1.jpeg Car,\n",
      "cloud.jpeg Aeroplane,\n",
      "im.jpg Car,\n"
     ]
    }
   ],
   "source": [
    "import numpy as np\n",
    "from keras.preprocessing import image\n",
    "import os\n",
    "os.chdir('C://Users//USER//Desktop//AI//multiclass//inference')\n",
    "for filename in os.listdir():\n",
    "    #print(filename)\n",
    "    i=image.load_img(filename,target_size=(96,96))\n",
    "    i=image.img_to_array(i)\n",
    " \n",
    "    i=i.reshape((1,i.shape[0],i.shape[1],i.shape[2]))\n",
    " \n",
    "    #i= preprocess_input(i)\n",
    "    result = classifier.predict(i)\n",
    " \n",
    "    result=np.argmax(result)\n",
    " \n",
    " \n",
    "    #label=label[0][0]\n",
    "    #print('%s (%.2f%%)' %(label[1],label[2]*100))\n",
    "    \n",
    "    if result == 0:\n",
    "        prediction = 'Aeroplane'\n",
    "    elif result == 1:\n",
    "        prediction = 'Car'\n",
    "    else :\n",
    "        prediction='Bike'\n",
    "    print(filename,prediction,end=\",\")\n",
    "    print()"
   ]
  }
 ],
 "metadata": {
  "kernelspec": {
   "display_name": "Python 3",
   "language": "python",
   "name": "python3"
  },
  "language_info": {
   "codemirror_mode": {
    "name": "ipython",
    "version": 3
   },
   "file_extension": ".py",
   "mimetype": "text/x-python",
   "name": "python",
   "nbconvert_exporter": "python",
   "pygments_lexer": "ipython3",
   "version": "3.7.2"
  }
 },
 "nbformat": 4,
 "nbformat_minor": 2
}
