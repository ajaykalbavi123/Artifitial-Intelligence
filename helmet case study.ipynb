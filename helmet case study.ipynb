{
 "cells": [
  {
   "cell_type": "code",
   "execution_count": 1,
   "metadata": {},
   "outputs": [
    {
     "name": "stderr",
     "output_type": "stream",
     "text": [
      "Using TensorFlow backend.\n"
     ]
    }
   ],
   "source": [
    "from keras.models import Sequential\n",
    "from keras.layers import Conv2D\n",
    "from keras.layers import MaxPooling2D\n",
    "from keras.layers import Flatten\n",
    "from keras.layers import Dense"
   ]
  },
  {
   "cell_type": "code",
   "execution_count": 53,
   "metadata": {},
   "outputs": [],
   "source": [
    "classifier = Sequential()"
   ]
  },
  {
   "cell_type": "code",
   "execution_count": 54,
   "metadata": {},
   "outputs": [],
   "source": [
    "## Convolution(64 feature detector of dimension 3 by 3), input shape 3 layer for color image)\n",
    "classifier.add(Conv2D(64,(3,3),input_shape = (64,64,3), activation = 'relu'))\n",
    "## MaxPooling\n",
    "classifier.add(MaxPooling2D(pool_size = (2,2)))\n",
    "\n",
    "## Add another layer\n",
    "classifier.add(Conv2D(64,(3,3), activation = 'relu'))\n",
    "classifier.add(MaxPooling2D(pool_size = (2,2)))\n",
    "\n",
    "## Add another layer\n",
    "classifier.add(Conv2D(64,(3,3), activation = 'relu'))\n",
    "classifier.add(MaxPooling2D(pool_size = (2,2)))\n",
    "\n",
    "classifier.add(Conv2D(64, kernel_size=3, activation='relu', input_shape=(64,64,3)))\n",
    "classifier.add(Conv2D(64, kernel_size=3, activation='relu'))\n",
    "classifier.add(Flatten())\n",
    "classifier.add(Dense(10,activation = 'softmax'))"
   ]
  },
  {
   "cell_type": "code",
   "execution_count": 55,
   "metadata": {},
   "outputs": [],
   "source": [
    "classifier.add(Dense(units = 128, activation = 'relu'))"
   ]
  },
  {
   "cell_type": "code",
   "execution_count": 56,
   "metadata": {},
   "outputs": [],
   "source": [
    "classifier.add(Dense(units = 1, activation = 'sigmoid'))"
   ]
  },
  {
   "cell_type": "code",
   "execution_count": 57,
   "metadata": {},
   "outputs": [],
   "source": [
    "classifier.compile(optimizer = 'adam', loss = 'binary_crossentropy', metrics = ['accuracy'])"
   ]
  },
  {
   "cell_type": "code",
   "execution_count": 58,
   "metadata": {},
   "outputs": [],
   "source": [
    "from keras.preprocessing.image import ImageDataGenerator\n",
    "train_datagen = ImageDataGenerator(\n",
    "        rescale=1./255,\n",
    "        shear_range=0.2,\n",
    "        zoom_range=0.2,\n",
    "        horizontal_flip=True)"
   ]
  },
  {
   "cell_type": "code",
   "execution_count": 59,
   "metadata": {},
   "outputs": [],
   "source": [
    "test_datagen = ImageDataGenerator(rescale=1./255)"
   ]
  },
  {
   "cell_type": "code",
   "execution_count": 60,
   "metadata": {},
   "outputs": [
    {
     "name": "stdout",
     "output_type": "stream",
     "text": [
      "Found 647 images belonging to 2 classes.\n"
     ]
    }
   ],
   "source": [
    "train_set = train_datagen.flow_from_directory('helmet_detection//training',\n",
    "                                               target_size=(64, 64),\n",
    "                                               batch_size=6,\n",
    "                                               class_mode='binary')"
   ]
  },
  {
   "cell_type": "code",
   "execution_count": 61,
   "metadata": {},
   "outputs": [
    {
     "data": {
      "text/plain": [
       "{'with helmet': 0, 'without helmet': 1}"
      ]
     },
     "execution_count": 61,
     "metadata": {},
     "output_type": "execute_result"
    }
   ],
   "source": [
    "train_set.class_indices"
   ]
  },
  {
   "cell_type": "code",
   "execution_count": 62,
   "metadata": {},
   "outputs": [
    {
     "name": "stdout",
     "output_type": "stream",
     "text": [
      "{'with helmet': 0, 'without helmet': 1}\n"
     ]
    }
   ],
   "source": [
    "label_map = (train_set.class_indices)\n",
    "print(label_map)"
   ]
  },
  {
   "cell_type": "code",
   "execution_count": 63,
   "metadata": {},
   "outputs": [
    {
     "name": "stdout",
     "output_type": "stream",
     "text": [
      "Found 208 images belonging to 2 classes.\n"
     ]
    }
   ],
   "source": [
    "test_set = test_datagen.flow_from_directory('helmet_detection//testing',\n",
    "                                            target_size=(64,64),\n",
    "                                            batch_size=6,\n",
    "                                            class_mode='binary')"
   ]
  },
  {
   "cell_type": "code",
   "execution_count": 64,
   "metadata": {},
   "outputs": [
    {
     "name": "stdout",
     "output_type": "stream",
     "text": [
      "Epoch 1/50\n",
      "50/50 [==============================] - 5s 93ms/step - loss: 0.6912 - acc: 0.5167 - val_loss: 0.6819 - val_acc: 0.4556\n",
      "Epoch 2/50\n",
      "50/50 [==============================] - 2s 49ms/step - loss: 0.6944 - acc: 0.5367 - val_loss: 0.6957 - val_acc: 0.5000\n",
      "Epoch 3/50\n",
      "50/50 [==============================] - 2s 47ms/step - loss: 0.6820 - acc: 0.5853 - val_loss: 0.7035 - val_acc: 0.4944\n",
      "Epoch 4/50\n",
      "50/50 [==============================] - 2s 45ms/step - loss: 0.6980 - acc: 0.5167 - val_loss: 0.6985 - val_acc: 0.4831\n",
      "Epoch 5/50\n",
      "50/50 [==============================] - 2s 45ms/step - loss: 0.6845 - acc: 0.5727 - val_loss: 0.7073 - val_acc: 0.4775\n",
      "Epoch 6/50\n",
      "50/50 [==============================] - 2s 46ms/step - loss: 0.6935 - acc: 0.5333 - val_loss: 0.7009 - val_acc: 0.4775\n",
      "Epoch 7/50\n",
      "50/50 [==============================] - 2s 45ms/step - loss: 0.6922 - acc: 0.5313 - val_loss: 0.6995 - val_acc: 0.4775\n",
      "Epoch 8/50\n",
      "50/50 [==============================] - 2s 45ms/step - loss: 0.6876 - acc: 0.5567 - val_loss: 0.6970 - val_acc: 0.5111\n",
      "Epoch 9/50\n",
      "50/50 [==============================] - 3s 50ms/step - loss: 0.6977 - acc: 0.5026 - val_loss: 0.7010 - val_acc: 0.4326\n",
      "Epoch 10/50\n",
      "50/50 [==============================] - 2s 49ms/step - loss: 0.6911 - acc: 0.5433 - val_loss: 0.6930 - val_acc: 0.5169\n",
      "Epoch 11/50\n",
      "50/50 [==============================] - 2s 46ms/step - loss: 0.6880 - acc: 0.5547 - val_loss: 0.7056 - val_acc: 0.4663\n",
      "Epoch 12/50\n",
      "50/50 [==============================] - 2s 45ms/step - loss: 0.6905 - acc: 0.5433 - val_loss: 0.7003 - val_acc: 0.4888\n",
      "Epoch 13/50\n",
      "50/50 [==============================] - 2s 46ms/step - loss: 0.6910 - acc: 0.5413 - val_loss: 0.7011 - val_acc: 0.4775\n",
      "Epoch 14/50\n",
      "50/50 [==============================] - 2s 47ms/step - loss: 0.6938 - acc: 0.5267 - val_loss: 0.6955 - val_acc: 0.4719\n",
      "Epoch 15/50\n",
      "50/50 [==============================] - 2s 48ms/step - loss: 0.6921 - acc: 0.5433 - val_loss: 0.7025 - val_acc: 0.4778\n",
      "Epoch 16/50\n",
      "50/50 [==============================] - 2s 49ms/step - loss: 0.6890 - acc: 0.5480 - val_loss: 0.6993 - val_acc: 0.4719\n",
      "Epoch 17/50\n",
      "50/50 [==============================] - 2s 47ms/step - loss: 0.6909 - acc: 0.5433 - val_loss: 0.6981 - val_acc: 0.4888\n",
      "Epoch 18/50\n",
      "50/50 [==============================] - 2s 46ms/step - loss: 0.6915 - acc: 0.5360 - val_loss: 0.6968 - val_acc: 0.4888\n",
      "Epoch 19/50\n",
      "50/50 [==============================] - 3s 50ms/step - loss: 0.6889 - acc: 0.5567 - val_loss: 0.7137 - val_acc: 0.4270\n",
      "Epoch 20/50\n",
      "50/50 [==============================] - 3s 51ms/step - loss: 0.6916 - acc: 0.5387 - val_loss: 0.6941 - val_acc: 0.5169\n",
      "Epoch 21/50\n",
      "50/50 [==============================] - 2s 48ms/step - loss: 0.6937 - acc: 0.5367 - val_loss: 0.6982 - val_acc: 0.4944\n",
      "Epoch 22/50\n",
      "50/50 [==============================] - 3s 50ms/step - loss: 0.6909 - acc: 0.5413 - val_loss: 0.6961 - val_acc: 0.4833\n",
      "Epoch 23/50\n",
      "50/50 [==============================] - 3s 54ms/step - loss: 0.6899 - acc: 0.5433 - val_loss: 0.6993 - val_acc: 0.4831\n",
      "Epoch 24/50\n",
      "50/50 [==============================] - 3s 50ms/step - loss: 0.6926 - acc: 0.5240 - val_loss: 0.6991 - val_acc: 0.4719\n",
      "Epoch 25/50\n",
      "50/50 [==============================] - 2s 49ms/step - loss: 0.6931 - acc: 0.5267 - val_loss: 0.6962 - val_acc: 0.4944\n",
      "Epoch 26/50\n",
      "50/50 [==============================] - 3s 61ms/step - loss: 0.6973 - acc: 0.5287 - val_loss: 0.7008 - val_acc: 0.4607\n",
      "Epoch 27/50\n",
      "50/50 [==============================] - 3s 54ms/step - loss: 0.6920 - acc: 0.5533 - val_loss: 0.7108 - val_acc: 0.4719\n",
      "Epoch 28/50\n",
      "50/50 [==============================] - 2s 47ms/step - loss: 0.6918 - acc: 0.5367 - val_loss: 0.6966 - val_acc: 0.4888\n",
      "Epoch 29/50\n",
      "50/50 [==============================] - 2s 46ms/step - loss: 0.6872 - acc: 0.5620 - val_loss: 0.7064 - val_acc: 0.4778\n",
      "Epoch 30/50\n",
      "50/50 [==============================] - 2s 45ms/step - loss: 0.6918 - acc: 0.5400 - val_loss: 0.6993 - val_acc: 0.4719\n",
      "Epoch 31/50\n",
      "50/50 [==============================] - 2s 45ms/step - loss: 0.6919 - acc: 0.5380 - val_loss: 0.6937 - val_acc: 0.5169\n",
      "Epoch 32/50\n",
      "50/50 [==============================] - 2s 45ms/step - loss: 0.6914 - acc: 0.5400 - val_loss: 0.7019 - val_acc: 0.4663\n",
      "Epoch 33/50\n",
      "50/50 [==============================] - 2s 45ms/step - loss: 0.6845 - acc: 0.5713 - val_loss: 0.7217 - val_acc: 0.4438\n",
      "Epoch 34/50\n",
      "50/50 [==============================] - 2s 46ms/step - loss: 0.7000 - acc: 0.4900 - val_loss: 0.6940 - val_acc: 0.5000\n",
      "Epoch 35/50\n",
      "50/50 [==============================] - 2s 45ms/step - loss: 0.6858 - acc: 0.5887 - val_loss: 0.7027 - val_acc: 0.4888\n",
      "Epoch 36/50\n",
      "50/50 [==============================] - 2s 47ms/step - loss: 0.6997 - acc: 0.5033 - val_loss: 0.6948 - val_acc: 0.4944\n",
      "Epoch 37/50\n",
      "50/50 [==============================] - 2s 44ms/step - loss: 0.6909 - acc: 0.5387 - val_loss: 0.6955 - val_acc: 0.4944\n",
      "Epoch 38/50\n",
      "50/50 [==============================] - 2s 44ms/step - loss: 0.6941 - acc: 0.5167 - val_loss: 0.6971 - val_acc: 0.4438\n",
      "Epoch 39/50\n",
      "50/50 [==============================] - 2s 44ms/step - loss: 0.6909 - acc: 0.5513 - val_loss: 0.6968 - val_acc: 0.5056\n",
      "Epoch 40/50\n",
      "50/50 [==============================] - 2s 45ms/step - loss: 0.6903 - acc: 0.5400 - val_loss: 0.7037 - val_acc: 0.4438\n",
      "Epoch 41/50\n",
      "50/50 [==============================] - 2s 44ms/step - loss: 0.6899 - acc: 0.5533 - val_loss: 0.6977 - val_acc: 0.5000\n",
      "Epoch 42/50\n",
      "50/50 [==============================] - 2s 44ms/step - loss: 0.6894 - acc: 0.5453 - val_loss: 0.6977 - val_acc: 0.4831\n",
      "Epoch 43/50\n",
      "50/50 [==============================] - 3s 52ms/step - loss: 0.6911 - acc: 0.5367 - val_loss: 0.6986 - val_acc: 0.4778\n",
      "Epoch 44/50\n",
      "50/50 [==============================] - 3s 50ms/step - loss: 0.6937 - acc: 0.5207 - val_loss: 0.6995 - val_acc: 0.4663\n",
      "Epoch 45/50\n",
      "50/50 [==============================] - 2s 48ms/step - loss: 0.6867 - acc: 0.5667 - val_loss: 0.6956 - val_acc: 0.5112\n",
      "Epoch 46/50\n",
      "50/50 [==============================] - 2s 45ms/step - loss: 0.6962 - acc: 0.5134 - val_loss: 0.6993 - val_acc: 0.4663\n",
      "Epoch 47/50\n",
      "50/50 [==============================] - 2s 44ms/step - loss: 0.6850 - acc: 0.5767 - val_loss: 0.7062 - val_acc: 0.4719\n",
      "Epoch 48/50\n",
      "50/50 [==============================] - 2s 45ms/step - loss: 0.6962 - acc: 0.5053 - val_loss: 0.6973 - val_acc: 0.4775\n",
      "Epoch 49/50\n",
      "50/50 [==============================] - 2s 44ms/step - loss: 0.6874 - acc: 0.5633 - val_loss: 0.6978 - val_acc: 0.4944\n",
      "Epoch 50/50\n",
      "50/50 [==============================] - 2s 47ms/step - loss: 0.6880 - acc: 0.5533 - val_loss: 0.7007 - val_acc: 0.4889\n"
     ]
    },
    {
     "data": {
      "text/plain": [
       "<keras.callbacks.History at 0x168aeba07b8>"
      ]
     },
     "execution_count": 64,
     "metadata": {},
     "output_type": "execute_result"
    }
   ],
   "source": [
    "classifier.fit_generator(\n",
    "        train_set,\n",
    "        steps_per_epoch=50,\n",
    "        epochs=50,\n",
    "        validation_data=test_set,\n",
    "        validation_steps=30)"
   ]
  },
  {
   "cell_type": "code",
   "execution_count": 65,
   "metadata": {},
   "outputs": [],
   "source": [
    "import numpy as np\n",
    "from keras.preprocessing import image\n",
    "test_image= image.load_img('helmet_detection//single_prediction//331.jpg'\n",
    "                           ,target_size =(64,64))"
   ]
  },
  {
   "cell_type": "code",
   "execution_count": 66,
   "metadata": {},
   "outputs": [],
   "source": [
    "test_image = image.img_to_array(test_image)"
   ]
  },
  {
   "cell_type": "code",
   "execution_count": 67,
   "metadata": {},
   "outputs": [],
   "source": [
    "test_image=test_image.reshape(1,64,64,3)"
   ]
  },
  {
   "cell_type": "code",
   "execution_count": 68,
   "metadata": {},
   "outputs": [],
   "source": [
    "result = classifier.predict(test_image)"
   ]
  },
  {
   "cell_type": "code",
   "execution_count": 69,
   "metadata": {},
   "outputs": [
    {
     "data": {
      "text/plain": [
       "array([[0.]], dtype=float32)"
      ]
     },
     "execution_count": 69,
     "metadata": {},
     "output_type": "execute_result"
    }
   ],
   "source": [
    "np.around(result)"
   ]
  },
  {
   "cell_type": "code",
   "execution_count": 70,
   "metadata": {},
   "outputs": [],
   "source": [
    "result = result.argmax()"
   ]
  },
  {
   "cell_type": "code",
   "execution_count": 71,
   "metadata": {},
   "outputs": [],
   "source": [
    "if result == 0:\n",
    "    prediction = 'with helmet'\n",
    "elif result == 1:\n",
    "    prediction = 'without helmet'"
   ]
  },
  {
   "cell_type": "code",
   "execution_count": 72,
   "metadata": {},
   "outputs": [
    {
     "data": {
      "text/plain": [
       "'with helmet'"
      ]
     },
     "execution_count": 72,
     "metadata": {},
     "output_type": "execute_result"
    }
   ],
   "source": [
    "prediction"
   ]
  }
 ],
 "metadata": {
  "kernelspec": {
   "display_name": "Python 3",
   "language": "python",
   "name": "python3"
  },
  "language_info": {
   "codemirror_mode": {
    "name": "ipython",
    "version": 3
   },
   "file_extension": ".py",
   "mimetype": "text/x-python",
   "name": "python",
   "nbconvert_exporter": "python",
   "pygments_lexer": "ipython3",
   "version": "3.7.2"
  }
 },
 "nbformat": 4,
 "nbformat_minor": 2
}
